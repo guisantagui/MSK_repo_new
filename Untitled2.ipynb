{
 "cells": [
  {
   "cell_type": "markdown",
   "metadata": {},
   "source": [
    "This script reads MTBC models retrieved from the internet and obtains lists of compounds that appear in these models"
   ]
  },
  {
   "cell_type": "code",
   "execution_count": 1,
   "metadata": {},
   "outputs": [],
   "source": [
    "import cobra"
   ]
  },
  {
   "cell_type": "code",
   "execution_count": 11,
   "metadata": {},
   "outputs": [],
   "source": [
    "mtbH37Rv = cobra.io.read_sbml_model(\"C:/Users/Guillem/Documents/PhD/comput/models/MTBC/mtbH37Rv.sbml\")\n",
    "iJO1366 = cobra.io.read_sbml_model(\"C:/Users/Guillem/Documents/PhD/comput/models/Ecoli/iJO1366.xml\")"
   ]
  },
  {
   "cell_type": "code",
   "execution_count": 10,
   "metadata": {},
   "outputs": [
    {
     "data": {
      "text/plain": [
       "1162"
      ]
     },
     "execution_count": 10,
     "metadata": {},
     "output_type": "execute_result"
    }
   ],
   "source": [
    "len(mtbH37Rv.metabolites)"
   ]
  },
  {
   "cell_type": "code",
   "execution_count": 12,
   "metadata": {},
   "outputs": [
    {
     "data": {
      "text/html": [
       "\n",
       "        <table>\n",
       "            <tr>\n",
       "                <td><strong>Metabolite identifier</strong></td><td>cpd00067_v0</td>\n",
       "            </tr><tr>\n",
       "                <td><strong>Name</strong></td><td>H_plus__v0</td>\n",
       "            </tr><tr>\n",
       "                <td><strong>Memory address</strong></td>\n",
       "                <td>0x01e08491aa08</td>\n",
       "            </tr><tr>\n",
       "                <td><strong>Formula</strong></td><td></td>\n",
       "            </tr><tr>\n",
       "                <td><strong>Compartment</strong></td><td>v0</td>\n",
       "            </tr><tr>\n",
       "                <td><strong>In 3 reaction(s)</strong></td><td>\n",
       "                    rxn00001_v0, rxn02374_v0, rxn08730_v0</td>\n",
       "            </tr>\n",
       "        </table>"
      ],
      "text/plain": [
       "<Metabolite cpd00067_v0 at 0x1e08491aa08>"
      ]
     },
     "execution_count": 12,
     "metadata": {},
     "output_type": "execute_result"
    }
   ],
   "source": [
    "mtbH37Rv.metabolites[15]"
   ]
  },
  {
   "cell_type": "code",
   "execution_count": 14,
   "metadata": {
    "scrolled": true
   },
   "outputs": [
    {
     "data": {
      "text/html": [
       "\n",
       "        <table>\n",
       "            <tr>\n",
       "                <td><strong>Metabolite identifier</strong></td><td>1hdecg3p_c</td>\n",
       "            </tr><tr>\n",
       "                <td><strong>Name</strong></td><td>1-hexadecanoyl-sn-glycerol 3-phosphate</td>\n",
       "            </tr><tr>\n",
       "                <td><strong>Memory address</strong></td>\n",
       "                <td>0x01e0864b6208</td>\n",
       "            </tr><tr>\n",
       "                <td><strong>Formula</strong></td><td>C19H37O7P1</td>\n",
       "            </tr><tr>\n",
       "                <td><strong>Compartment</strong></td><td>c</td>\n",
       "            </tr><tr>\n",
       "                <td><strong>In 3 reaction(s)</strong></td><td>\n",
       "                    AGPAT160, G3PAT160, APG3PAT160</td>\n",
       "            </tr>\n",
       "        </table>"
      ],
      "text/plain": [
       "<Metabolite 1hdecg3p_c at 0x1e0864b6208>"
      ]
     },
     "execution_count": 14,
     "metadata": {},
     "output_type": "execute_result"
    }
   ],
   "source": [
    "iJO1366.metabolites[16]"
   ]
  }
 ],
 "metadata": {
  "kernelspec": {
   "display_name": "Python 3",
   "language": "python",
   "name": "python3"
  },
  "language_info": {
   "codemirror_mode": {
    "name": "ipython",
    "version": 3
   },
   "file_extension": ".py",
   "mimetype": "text/x-python",
   "name": "python",
   "nbconvert_exporter": "python",
   "pygments_lexer": "ipython3",
   "version": "3.7.7"
  }
 },
 "nbformat": 4,
 "nbformat_minor": 4
}
